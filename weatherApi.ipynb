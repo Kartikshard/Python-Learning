{
 "cells": [
  {
   "cell_type": "code",
   "execution_count": 1,
   "id": "51867497-6458-4357-b678-b0b580a9323d",
   "metadata": {},
   "outputs": [],
   "source": [
    "import requests\n"
   ]
  },
  {
   "cell_type": "code",
   "execution_count": 2,
   "id": "0372e4f8-652e-4eb3-9abb-6001de8f2019",
   "metadata": {},
   "outputs": [
    {
     "name": "stdout",
     "output_type": "stream",
     "text": [
      "Error! Status code: 400\n"
     ]
    }
   ],
   "source": [
    "apiKey=\"7862f9c7dad3491bb6972302251706\"\n",
    "\n",
    "cityName= input(\"Enter city Name\" )\n",
    "url=f\"http://api.weatherapi.com/v1/forecast.json?key={apiKey}&q={cityName}&days=1&aqi=no&alerts=no\"\n",
    "response = requests.get(url)\n",
    "if response.status_code == 200:\n",
    "   data= response.json()\n",
    "   print(\"Weather Information \\n\")\n",
    "   location=data[\"location\"][\"name\"]\n",
    "   print(location)\n",
    "   print(\"Current Weather :\",data[\"current\"][\"temp_c\"])\n",
    "   print(data[\"current\"][\"condition\"][\"text\"])\n",
    "   \n",
    "else:\n",
    "    print(f\"Error! Status code: {response.status_code}\")"
   ]
  },
  {
   "cell_type": "code",
   "execution_count": null,
   "id": "2d5ff087-eb80-477c-8e11-93c0fb566f10",
   "metadata": {},
   "outputs": [],
   "source": []
  }
 ],
 "metadata": {
  "kernelspec": {
   "display_name": "Python 3",
   "language": "python",
   "name": "python3"
  },
  "language_info": {
   "codemirror_mode": {
    "name": "ipython",
    "version": 3
   },
   "file_extension": ".py",
   "mimetype": "text/x-python",
   "name": "python",
   "nbconvert_exporter": "python",
   "pygments_lexer": "ipython3",
   "version": "3.13.5"
  }
 },
 "nbformat": 4,
 "nbformat_minor": 5
}
