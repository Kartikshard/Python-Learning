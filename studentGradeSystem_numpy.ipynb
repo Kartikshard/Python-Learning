{
 "cells": [
  {
   "cell_type": "markdown",
   "id": "f7fc0a90-5bdc-44a5-bc9a-87958c4f236a",
   "metadata": {},
   "source": [
    "Student Grades Report System"
   ]
  },
  {
   "cell_type": "markdown",
   "id": "b3d63725-2621-4458-825c-6d54436a4f47",
   "metadata": {},
   "source": [
    "🧠 What You’ll Do:\n",
    "Create a 2D array of students’ marks in 3 subjects\n",
    "\n",
    "Calculate average per student and per subject\n",
    "\n",
    "Mark students as pass/fail (e.g., pass if average ≥ 40)\n",
    "\n",
    "Replace marks < 35 with 0 (fail-safe policy)\n",
    "\n",
    "Find top-performing student"
   ]
  },
  {
   "cell_type": "code",
   "execution_count": 1,
   "id": "d75996b7-0806-4414-8745-5adfe8e43a8a",
   "metadata": {},
   "outputs": [],
   "source": [
    "import numpy as np"
   ]
  },
  {
   "cell_type": "code",
   "execution_count": 2,
   "id": "b1836ee1-eefe-4ac4-bf09-b5523d4e416b",
   "metadata": {},
   "outputs": [],
   "source": [
    "marks = np.array([\n",
    "    [85, 78, 92],  # Student 1\n",
    "    [76, 88, 90],  # Student 2\n",
    "    [90, 91, 89],  # Student 3\n",
    "    [65, 70, 72]   # Student 4\n",
    "])"
   ]
  },
  {
   "cell_type": "markdown",
   "id": "ccc6d021-420b-4fe8-9ad3-6451753d0ff4",
   "metadata": {},
   "source": [
    "Average Marks Per Student"
   ]
  },
  {
   "cell_type": "code",
   "execution_count": 3,
   "id": "2d9ed7c4-9a73-4c8f-9499-37864eb14af0",
   "metadata": {},
   "outputs": [
    {
     "name": "stdout",
     "output_type": "stream",
     "text": [
      "[85.         84.66666667 90.         69.        ]\n"
     ]
    }
   ],
   "source": [
    "average_marks= np.mean(marks,axis=1)\n",
    "print(average_marks)"
   ]
  },
  {
   "cell_type": "markdown",
   "id": "9182e50a-3283-4f67-9cdf-2538d7279933",
   "metadata": {},
   "source": [
    "Average Marks Per Subject"
   ]
  },
  {
   "cell_type": "code",
   "execution_count": 4,
   "id": "143d144c-f57e-41af-a1d3-a13c18c15e2b",
   "metadata": {},
   "outputs": [
    {
     "name": "stdout",
     "output_type": "stream",
     "text": [
      "[79.   81.75 85.75]\n"
     ]
    }
   ],
   "source": [
    "average_marks_perSubject = np.mean(marks,axis=0)\n",
    "print(average_marks_perSubject)"
   ]
  },
  {
   "cell_type": "markdown",
   "id": "973cd5fb-1098-401f-8c70-24b7041e1aa6",
   "metadata": {},
   "source": [
    "Marking Students as pass or fail"
   ]
  },
  {
   "cell_type": "code",
   "execution_count": 29,
   "id": "331c9f12-67a8-449e-9e26-dae210937edb",
   "metadata": {},
   "outputs": [
    {
     "name": "stdout",
     "output_type": "stream",
     "text": [
      "4\n",
      "0\n"
     ]
    }
   ],
   "source": [
    "pass_students= np.sum(average_marks>=40)\n",
    "print(pass_students)\n",
    "\n",
    "fail_students= np.sum(average_marks<40)\n",
    "print(fail_students)"
   ]
  },
  {
   "cell_type": "code",
   "execution_count": 5,
   "id": "f2358a1e-3592-4050-a2df-47367768f455",
   "metadata": {},
   "outputs": [],
   "source": [
    "marks[marks < 0]=0"
   ]
  }
 ],
 "metadata": {
  "kernelspec": {
   "display_name": "Python 3 (ipykernel)",
   "language": "python",
   "name": "python3"
  },
  "language_info": {
   "codemirror_mode": {
    "name": "ipython",
    "version": 3
   },
   "file_extension": ".py",
   "mimetype": "text/x-python",
   "name": "python",
   "nbconvert_exporter": "python",
   "pygments_lexer": "ipython3",
   "version": "3.13.5"
  }
 },
 "nbformat": 4,
 "nbformat_minor": 5
}
